{
 "cells": [
  {
   "cell_type": "markdown",
   "metadata": {},
   "source": [
    "# Generates 1000 random numbers between -1 to 500 and sorts it"
   ]
  },
  {
   "cell_type": "code",
   "execution_count": 25,
   "metadata": {},
   "outputs": [
    {
     "name": "stdout",
     "output_type": "stream",
     "text": [
      "\n",
      "Random numbers generated are:\n",
      "[337, 500, 464, 339, 119, 320, 473, 243, 98, 374]\n",
      "\n",
      "Sorted:\n",
      "[98, 119, 243, 320, 337, 339, 374, 464, 473, 500]\n"
     ]
    }
   ],
   "source": [
    "import random\n",
    "randomlist = []\n",
    "for i in range(0,10):\n",
    "    n = random.randint(-1,501)\n",
    "    randomlist.append(n)\n",
    "print(\"\\nRandom numbers generated are:\")\n",
    "print(randomlist)\n",
    "print(\"\\nSorted:\")\n",
    "randomlist.sort()\n",
    "print(randomlist)"
   ]
  },
  {
   "cell_type": "markdown",
   "metadata": {},
   "source": [
    "# Taking Input from user"
   ]
  },
  {
   "cell_type": "code",
   "execution_count": 35,
   "metadata": {},
   "outputs": [
    {
     "name": "stdout",
     "output_type": "stream",
     "text": [
      "enter the count of number to generate:25\n",
      "enter the lower limit:0\n",
      "enter the upper limit:501\n",
      "\n",
      "Random numbers generated are:\n",
      "[389, 321, 200, 185, 27, 309, 451, 498, 47, 444, 266, 488, 440, 437, 133, 490, 113, 354, 113, 74, 316, 11, 423, 361, 74]\n",
      "\n",
      "Sorted:\n",
      "[11, 27, 47, 74, 74, 113, 113, 133, 185, 200, 266, 309, 316, 321, 354, 361, 389, 423, 437, 440, 444, 451, 488, 490, 498]\n"
     ]
    }
   ],
   "source": [
    "import random\n",
    "count=int(input(\"enter the count of number to generate:\"))\n",
    "randomlist = []\n",
    "low=int(input(\"enter the lower limit:\"))\n",
    "high=int(input(\"enter the upper limit:\"))\n",
    "for i in range(0,count):\n",
    "    if(low<=high):\n",
    "        n = random.randint(low,high)\n",
    "        randomlist.append(n)\n",
    "    else:\n",
    "        n = random.randint(high,low)\n",
    "        randomlist.append(n)\n",
    "print(\"\\nRandom numbers generated are:\")\n",
    "print(randomlist)\n",
    "print(\"\\nSorted:\")\n",
    "randomlist.sort()\n",
    "print(randomlist)"
   ]
  },
  {
   "cell_type": "markdown",
   "metadata": {},
   "source": [
    "# Using Function"
   ]
  },
  {
   "cell_type": "code",
   "execution_count": 33,
   "metadata": {},
   "outputs": [
    {
     "name": "stdout",
     "output_type": "stream",
     "text": [
      "\n",
      "Random numbers generated are:\n",
      "[455, 146, 157, 115, 187, 445, 41, 11, 477, 14, 286]\n",
      "\n",
      "Sorted:\n",
      "[11, 14, 41, 115, 146, 157, 187, 286, 445, 455, 477]\n"
     ]
    }
   ],
   "source": [
    "import random\n",
    "def randoms(a):\n",
    "    randomlist1 = []\n",
    "    for i in range(0,a):\n",
    "        n = random.randint(-1,501)\n",
    "        randomlist.append(n)\n",
    "    print(\"\\nRandom numbers generated are:\")\n",
    "    print(randomlist)\n",
    "    print(\"\\nSorted:\")\n",
    "    randomlist.sort()\n",
    "    print(randomlist)\n",
    "    \n",
    "    \n",
    "randoms(10)\n"
   ]
  }
 ],
 "metadata": {
  "kernelspec": {
   "display_name": "Python 3",
   "language": "python",
   "name": "python3"
  },
  "language_info": {
   "codemirror_mode": {
    "name": "ipython",
    "version": 3
   },
   "file_extension": ".py",
   "mimetype": "text/x-python",
   "name": "python",
   "nbconvert_exporter": "python",
   "pygments_lexer": "ipython3",
   "version": "3.7.6"
  }
 },
 "nbformat": 4,
 "nbformat_minor": 4
}
